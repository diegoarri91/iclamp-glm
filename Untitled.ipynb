{
 "cells": [
  {
   "cell_type": "code",
   "execution_count": 16,
   "metadata": {},
   "outputs": [],
   "source": [
    "import sys\n",
    "sys.path.append(\"/home/diego/Dropbox/Python/imports/\") \n",
    "# sys.path.append(\"/home/diego/Dropbox/hold_noise/pycharm_project/classes/\")\n",
    "import matplotlib.pyplot as plt\n",
    "import numpy as np\n",
    "import pandas as pd\n",
    "import seaborn as sns\n",
    "\n",
    "%load_ext autoreload\n",
    "%autoreload 2"
   ]
  },
  {
   "cell_type": "code",
   "execution_count": 2,
   "metadata": {},
   "outputs": [],
   "source": [
    "from icglm.iclamp import IClamp"
   ]
  },
  {
   "cell_type": "code",
   "execution_count": 4,
   "metadata": {},
   "outputs": [],
   "source": [
    "from icglm.kernels import KernelRect"
   ]
  },
  {
   "cell_type": "code",
   "execution_count": 5,
   "metadata": {},
   "outputs": [],
   "source": [
    "ker = KernelRect(np.arange(0, 100, 5),np.exp(-np.arange(0, 100, 5)[:-1]))"
   ]
  },
  {
   "cell_type": "code",
   "execution_count": 29,
   "metadata": {},
   "outputs": [],
   "source": [
    "import itertools\n",
    "import numpy as np\n",
    "import pandas as pd\n",
    "\n",
    "from fun_misc import get_time_stamp\n",
    "\n",
    "n_sweeps = 3\n",
    "dt = 1\n",
    "tf = 10000\n",
    "t = np.arange(0, tf, dt)\n",
    "\n",
    "n_trials = 1\n",
    "\n",
    "mu_xis = [0]\n",
    "sd_xis = [1]\n",
    "Imus = [0]\n",
    "Isds = [0.1]\n",
    "taus = [3, 30]\n",
    "glm_pars = []\n",
    "tau_kappas = [30, 60]\n",
    "tau_etas = [5]\n",
    "A_etas = [10]\n",
    "\n",
    "input_pars = list(itertools.product(mu_xis, sd_xis, Imus, Isds, taus))\n",
    "glm_pars += list(itertools.product(tau_kappas, tau_etas, A_etas))\n",
    "\n",
    "pars = list(itertools.product(input_pars, glm_pars))\n",
    "\n",
    "optimization_kwargs = {'max_iterations': 60, 'initial_learning_rate': 5e-1, \n",
    "                       'learning_rate': 5e-1, 'stop_cond': 1e-3}\n",
    "\n",
    "columns = ['index', 'tf', 'dt', 'n_trials', 'mu_xi', 'sd_xi', 'mu_I', 'sd_I', 'tau', 'tau_kappa', 'tau_eta', 'A_eta', \n",
    "           'max_iterations', 'stop_cond', 'learning_rate']\n",
    "\n",
    "# columns = ['index', 'tf', 'dt', 'n_trials', 'mu_xi', 'sd_xi', 'mu_I', 'sd_I', 'tau', 'tau_kappa', 'tau_eta', 'A_eta', \n",
    "#            'max_iterations', 'stop_cond', 'learning_rate', 'converged', 'nan_22d2d\n",
    "#            'n_spikes', 'reliability', 'rmse', 'log_det_cov_posterior', 'mean_baseline_posterior', 'var_baseline_posterior']\n",
    "\n",
    "df = pd.DataFrame([(get_time_stamp() + '-' + str(ii), tf, dt, n_trials) + pars[ii][0] + pars[ii][1] + \n",
    "              (optimization_kwargs['max_iterations'], optimization_kwargs['stop_cond'], optimization_kwargs['learning_rate']) \n",
    "              for ii in range(len(pars))], columns=columns)\n",
    "df = df.set_index('index')"
   ]
  },
  {
   "cell_type": "code",
   "execution_count": 31,
   "metadata": {},
   "outputs": [
    {
     "data": {
      "text/plain": [
       "(3, 4)"
      ]
     },
     "execution_count": 31,
     "metadata": {},
     "output_type": "execute_result"
    }
   ],
   "source": [
    "(3, 4)"
   ]
  },
  {
   "cell_type": "code",
   "execution_count": 14,
   "metadata": {},
   "outputs": [
    {
     "data": {
      "text/html": [
       "<div>\n",
       "<style scoped>\n",
       "    .dataframe tbody tr th:only-of-type {\n",
       "        vertical-align: middle;\n",
       "    }\n",
       "\n",
       "    .dataframe tbody tr th {\n",
       "        vertical-align: top;\n",
       "    }\n",
       "\n",
       "    .dataframe thead th {\n",
       "        text-align: right;\n",
       "    }\n",
       "</style>\n",
       "<table border=\"1\" class=\"dataframe\">\n",
       "  <thead>\n",
       "    <tr style=\"text-align: right;\">\n",
       "      <th></th>\n",
       "      <th>0</th>\n",
       "      <th>1</th>\n",
       "      <th>2</th>\n",
       "      <th>3</th>\n",
       "      <th>4</th>\n",
       "      <th>5</th>\n",
       "    </tr>\n",
       "  </thead>\n",
       "  <tbody>\n",
       "    <tr>\n",
       "      <th>0</th>\n",
       "      <td>0</td>\n",
       "      <td>0.1</td>\n",
       "      <td>3</td>\n",
       "      <td>30</td>\n",
       "      <td>5</td>\n",
       "      <td>10</td>\n",
       "    </tr>\n",
       "    <tr>\n",
       "      <th>1</th>\n",
       "      <td>0</td>\n",
       "      <td>0.1</td>\n",
       "      <td>3</td>\n",
       "      <td>60</td>\n",
       "      <td>5</td>\n",
       "      <td>10</td>\n",
       "    </tr>\n",
       "    <tr>\n",
       "      <th>2</th>\n",
       "      <td>0</td>\n",
       "      <td>0.1</td>\n",
       "      <td>30</td>\n",
       "      <td>30</td>\n",
       "      <td>5</td>\n",
       "      <td>10</td>\n",
       "    </tr>\n",
       "    <tr>\n",
       "      <th>3</th>\n",
       "      <td>0</td>\n",
       "      <td>0.1</td>\n",
       "      <td>30</td>\n",
       "      <td>60</td>\n",
       "      <td>5</td>\n",
       "      <td>10</td>\n",
       "    </tr>\n",
       "  </tbody>\n",
       "</table>\n",
       "</div>"
      ],
      "text/plain": [
       "   0    1   2   3  4   5\n",
       "0  0  0.1   3  30  5  10\n",
       "1  0  0.1   3  60  5  10\n",
       "2  0  0.1  30  30  5  10\n",
       "3  0  0.1  30  60  5  10"
      ]
     },
     "execution_count": 14,
     "metadata": {},
     "output_type": "execute_result"
    }
   ],
   "source": []
  },
  {
   "cell_type": "code",
   "execution_count": null,
   "metadata": {},
   "outputs": [],
   "source": []
  }
 ],
 "metadata": {
  "kernelspec": {
   "display_name": "Python 3",
   "language": "python",
   "name": "python3"
  },
  "language_info": {
   "codemirror_mode": {
    "name": "ipython",
    "version": 3
   },
   "file_extension": ".py",
   "mimetype": "text/x-python",
   "name": "python",
   "nbconvert_exporter": "python",
   "pygments_lexer": "ipython3",
   "version": "3.6.7"
  }
 },
 "nbformat": 4,
 "nbformat_minor": 2
}
