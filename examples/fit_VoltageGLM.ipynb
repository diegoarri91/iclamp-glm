{
 "cells": [
  {
   "cell_type": "code",
   "execution_count": 1,
   "metadata": {},
   "outputs": [],
   "source": [
    "%matplotlib inline\n",
    "import sys\n",
    "sys.path.append(\"/home/diego/Dropbox/hold_noise/iclamp-glm/\")\n",
    "\n",
    "import matplotlib.pyplot as plt\n",
    "import numpy as np\n",
    "\n",
    "from icglm.vglm import VGLM\n",
    "from icglm.kernels import KernelRect\n",
    "from icglm.processes import OUProcess\n",
    "\n",
    "%load_ext autoreload\n",
    "%autoreload 2"
   ]
  },
  {
   "cell_type": "code",
   "execution_count": 2,
   "metadata": {},
   "outputs": [
    {
     "ename": "TypeError",
     "evalue": "__init__() got an unexpected keyword argument 'u0'",
     "output_type": "error",
     "traceback": [
      "\u001b[0;31m---------------------------------------------------------------------------\u001b[0m",
      "\u001b[0;31mTypeError\u001b[0m                                 Traceback (most recent call last)",
      "\u001b[0;32m<ipython-input-2-857fa1430f03>\u001b[0m in \u001b[0;36m<module>\u001b[0;34m\u001b[0m\n\u001b[1;32m      9\u001b[0m \u001b[0mgamma\u001b[0m \u001b[0;34m=\u001b[0m \u001b[0mKernelRect\u001b[0m\u001b[0;34m.\u001b[0m\u001b[0mexponential\u001b[0m\u001b[0;34m(\u001b[0m\u001b[0mtf\u001b[0m\u001b[0;34m=\u001b[0m\u001b[0;36m225\u001b[0m\u001b[0;34m,\u001b[0m \u001b[0mdt\u001b[0m\u001b[0;34m=\u001b[0m\u001b[0;36m25\u001b[0m\u001b[0;34m,\u001b[0m \u001b[0mtau\u001b[0m\u001b[0;34m=\u001b[0m\u001b[0;36m25\u001b[0m\u001b[0;34m,\u001b[0m \u001b[0mA\u001b[0m\u001b[0;34m=\u001b[0m\u001b[0;36m20\u001b[0m\u001b[0;34m)\u001b[0m\u001b[0;34m\u001b[0m\u001b[0;34m\u001b[0m\u001b[0m\n\u001b[1;32m     10\u001b[0m \u001b[0mvt\u001b[0m\u001b[0;34m,\u001b[0m \u001b[0mdv\u001b[0m \u001b[0;34m=\u001b[0m \u001b[0;34m-\u001b[0m\u001b[0;36m30\u001b[0m\u001b[0;34m,\u001b[0m \u001b[0;36m1\u001b[0m\u001b[0;34m\u001b[0m\u001b[0;34m\u001b[0m\u001b[0m\n\u001b[0;32m---> 11\u001b[0;31m \u001b[0mvglm_true\u001b[0m \u001b[0;34m=\u001b[0m \u001b[0mVGLM\u001b[0m\u001b[0;34m(\u001b[0m\u001b[0mu0\u001b[0m\u001b[0;34m=\u001b[0m\u001b[0mu0\u001b[0m\u001b[0;34m,\u001b[0m \u001b[0mkappa\u001b[0m\u001b[0;34m=\u001b[0m\u001b[0mkappa\u001b[0m\u001b[0;34m,\u001b[0m \u001b[0meta\u001b[0m\u001b[0;34m=\u001b[0m\u001b[0meta\u001b[0m\u001b[0;34m,\u001b[0m \u001b[0mvt\u001b[0m\u001b[0;34m=\u001b[0m\u001b[0mvt\u001b[0m\u001b[0;34m,\u001b[0m \u001b[0mdv\u001b[0m\u001b[0;34m=\u001b[0m\u001b[0mdv\u001b[0m\u001b[0;34m,\u001b[0m \u001b[0mgamma\u001b[0m\u001b[0;34m=\u001b[0m\u001b[0mgamma\u001b[0m\u001b[0;34m)\u001b[0m\u001b[0;34m\u001b[0m\u001b[0;34m\u001b[0m\u001b[0m\n\u001b[0m\u001b[1;32m     12\u001b[0m \u001b[0;34m\u001b[0m\u001b[0m\n\u001b[1;32m     13\u001b[0m \u001b[0mnp\u001b[0m\u001b[0;34m.\u001b[0m\u001b[0mrandom\u001b[0m\u001b[0;34m.\u001b[0m\u001b[0mseed\u001b[0m\u001b[0;34m(\u001b[0m\u001b[0;36m0\u001b[0m\u001b[0;34m)\u001b[0m\u001b[0;34m\u001b[0m\u001b[0;34m\u001b[0m\u001b[0m\n",
      "\u001b[0;31mTypeError\u001b[0m: __init__() got an unexpected keyword argument 'u0'"
     ]
    }
   ],
   "source": [
    "t = np.arange(0, 100000, 1)\n",
    "mu, sd = 25, 25\n",
    "ou = OUProcess(mu=mu, sd=sd, tau=3)\n",
    "stim = ou.sample(t, seed=0)\n",
    "\n",
    "u0 = 50\n",
    "kappa = KernelRect.exponential(tf=240, dt=8, tau=40, A=1e-2)\n",
    "eta = KernelRect.exponential(tf=450, dt=25, tau=75, A=7)\n",
    "gamma = KernelRect.exponential(tf=225, dt=25, tau=25, A=20)\n",
    "vt, dv = -30, 1\n",
    "vglm_true = VGLM(u0=u0, kappa=kappa, eta=eta, vt=vt, dv=dv, gamma=gamma)\n",
    "\n",
    "np.random.seed(0)\n",
    "v, r, mask_spk_true = vglm_true.sample(t, stim)\n",
    "\n",
    "fig, (ax1, ax2, ax3) = plt.subplots(figsize=(16, 10), nrows=3)\n",
    "ax1.plot(t, mask_spk_true)\n",
    "ax2.plot(t, r)\n",
    "ax3.plot(t, v)"
   ]
  },
  {
   "cell_type": "code",
   "execution_count": 8,
   "metadata": {},
   "outputs": [
    {
     "name": "stdout",
     "output_type": "stream",
     "text": [
      "dict_keys(['data', 'mask_subthreshold'])\n",
      "dict_keys(['X_spikes', 'X', 'X_sub', 'data_sub', 'Y_spikes', 'Y'])\n",
      "Starting gradient ascent... \n",
      "\n",
      " Iteration 6 of 30 | Elapsed time: 3.7 seconds | log_prior=nan | log_posterior=-746.97\n",
      " \n",
      " Iteration 6 of 30 | Converged | Elapsed time: 0.0617 minutes | Log posterior is monotonic \n",
      "\n",
      "u0 50 49.999257115133105\n",
      "vt -30 -29.120376289185906\n",
      "dv 1 1.026099815378732\n",
      "[-748.1998465  -748.05577271 -747.49197195 -747.43143303 -747.37599985\n",
      " -747.32519707 -746.96714862]\n"
     ]
    },
    {
     "data": {
      "text/plain": [
       "<matplotlib.axes._subplots.AxesSubplot at 0x7f79e5a287b8>"
      ]
     },
     "execution_count": 8,
     "metadata": {},
     "output_type": "execute_result"
    },
    {
     "data": {
      "image/png": "[encoded data removed]",
      "text/plain": [
       "<Figure size 1080x360 with 3 Axes>"
      ]
     },
     "metadata": {
      "needs_background": "light"
     },
     "output_type": "display_data"
    }
   ],
   "source": [
    "theta0 = np.concatenate((np.array([u0]), kappa.coefs * 1, eta.coefs * 1, [vt], gamma.coefs, [1]))\n",
    "newton_kwargs = dict(max_iterations=30, stop_cond=5e-4, learning_rate=5e-1, initial_learning_rate=5e-2, warm_up_iterations=5)\n",
    "\n",
    "mask_subthreshold = np.ones(mask_spk_true.shape, dtype=bool)\n",
    "mask_subthreshold[mask_spk_true] = False\n",
    "vglm = vglm_true.copy()\n",
    "optimizer = vglm.fit(t, stim, mask_spk_true, data=v, mask_subthreshold=mask_subthreshold, theta0=theta0, newton_kwargs=newton_kwargs,verbose=True)\n",
    "print('u0', vglm_true.u0, vglm.u0)\n",
    "print('vt', vglm_true.vt, vglm.vt)\n",
    "print('dv', vglm_true.dv, vglm.dv)\n",
    "print(optimizer.log_posterior_iterations)\n",
    "\n",
    "fig, (ax1, ax2, ax3) = plt.subplots(figsize=(15, 5), ncols=3)\n",
    "vglm_true.kappa.plot(ax=ax1)\n",
    "vglm.kappa.plot(ax=ax1)\n",
    "vglm_true.eta.plot(ax=ax2)\n",
    "vglm.eta.plot(ax=ax2)\n",
    "vglm_true.gamma.plot(ax=ax3)\n",
    "vglm.gamma.plot(ax=ax3)\n",
    "# ax3.plot(optimizer.log_posterior_iterations, '-o')"
   ]
  },
  {
   "cell_type": "code",
   "execution_count": null,
   "metadata": {},
   "outputs": [],
   "source": []
  }
 ],
 "metadata": {
  "kernelspec": {
   "display_name": "Python 3",
   "language": "python",
   "name": "python3"
  },
  "language_info": {
   "codemirror_mode": {
    "name": "ipython",
    "version": 3
   },
   "file_extension": ".py",
   "mimetype": "text/x-python",
   "name": "python",
   "nbconvert_exporter": "python",
   "pygments_lexer": "ipython3",
   "version": "3.7.3"
  }
 },
 "nbformat": 4,
 "nbformat_minor": 2
}
