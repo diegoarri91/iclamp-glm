{
 "cells": [
  {
   "cell_type": "code",
   "execution_count": 6,
   "metadata": {},
   "outputs": [
    {
     "name": "stdout",
     "output_type": "stream",
     "text": [
      "The autoreload extension is already loaded. To reload it, use:\n",
      "  %reload_ext autoreload\n"
     ]
    }
   ],
   "source": [
    "%matplotlib inline\n",
    "import sys\n",
    "sys.path.append(\"/home/diego/Dropbox/hold_noise/iclamp-glm/\")\n",
    "\n",
    "%load_ext autoreload\n",
    "%autoreload 2"
   ]
  },
  {
   "cell_type": "code",
   "execution_count": 7,
   "metadata": {},
   "outputs": [
    {
     "name": "stdout",
     "output_type": "stream",
     "text": [
      "Starting gradient ascent... \n",
      "\n",
      " Iteration 24 of 100 | Elapsed time: 0.05 seconds | log_prior=nan | log_posterior=-313.53\n",
      " \n",
      " Iteration 24 of 100 | Converged | Elapsed time: 0.0009 minutes | Log posterior is monotonic \n",
      "\n"
     ]
    }
   ],
   "source": [
    "import numpy as np\n",
    "# from icglm.glm_fitting import GLMFitter\n",
    "from icglm.iclamp import IClamp\n",
    "from icglm.kernels.fun import KernelFun\n",
    "from icglm.kernels.rect import KernelRect\n",
    "from icglm.metrics.continuous import rmse\n",
    "from icglm.models.lssrm import LSSRM\n",
    "from icglm.plot.fit import SRMPlotter\n",
    "from icglm.spiketrain import SpikeTrain\n",
    "\n",
    "ic = IClamp.load_from_abf(path='./18o03049.abf')\n",
    "ic = ic.sweeps(np.array([0]))\n",
    "\n",
    "t0, tf = 1000.1, 11000.1\n",
    "ic = ic.subtract_Ih(th=1000.1).restrict(t0=t0, tf=tf, reset_time=True)\n",
    "ic = ic.set_mask_spikes(thr=-13, t_before_spike_peak=0.8).subsample(1)\n",
    "mask_subthreshold = ic.get_mask_away_from_spikes(5, 10, t0=1500)\n",
    "\n",
    "kappa = KernelRect(tbins=np.arange(0, 360, 5))\n",
    "eta = KernelRect(tbins=np.arange(10, 470, 10))\n",
    "tbins_gamma = np.append([0], np.arange(10, 480, 20))\n",
    "coefs_gamma0 = 5 * np.exp(-tbins_gamma[:-1] / 50)\n",
    "gamma = KernelRect(tbins=tbins_gamma, coefs=coefs_gamma0)\n",
    "\n",
    "newton_kwargs = dict(max_iterations=100, stop_cond=5e-4, learning_rate=1e-1, initial_learning_rate=1e-2, warm_up_iterations=2)\n",
    "\n",
    "srm = LSSRM(vr=-65, kappa=kappa.copy(), eta=eta.copy(), vt=-35, dv=1, gamma=gamma.copy())\n",
    "optimizer = srm.fit(ic.t, ic.stim, ic.mask_spikes, ic.v, mask_subthreshold, newton_kwargs=newton_kwargs, verbose=True)\n",
    "z, ks_stats = srm.time_rescale_transform(ic.t, ic.stim, ic.mask_spikes)\n",
    "v_model, u, r = srm.simulate_subthreshold(ic.t, ic.stim, ic.mask_spikes)\n",
    "_, _, mask_spikes_model = srm.sample(ic.t, ic.stim)\n",
    "\n",
    "rmse_score = rmse(ic.v[mask_subthreshold], v_model[mask_subthreshold])\n",
    "\n",
    "\n",
    "# kernel1, kernel2 = KernelRect.kistler_kernels(4, 1)\n",
    "# psth_kernel = KernelFun.gaussian_delta(delta=40)\n",
    "# st_exp = SpikeTrain(ic.t, ic.mask_spikes)\n",
    "# st_model = SpikeTrain(ic.t, mask_spikes_model)\n",
    "# psth_exp = st_exp.get_psth(psth_kernel)\n",
    "# psth_model = st_model.get_psth(psth_kernel)\n",
    "# Md = st_exp.Md(st_model, kernel1, kernel2)\n",
    "\n",
    "# srmp = SRMPlotter(ic=ic, srm=srm, mask_subthreshold=mask_subthreshold, optimizer=optimizer, log_likelihood_normed=logl, z=z, ks_stats=ks_stats, \n",
    "#                   psth_exp=psth_exp, psth_model=psth_model, Md=Md, v_exp=ic.data, v_model=v_model)\n",
    "\n",
    "# fig, axs = srmp.plot_summary()"
   ]
  },
  {
   "cell_type": "code",
   "execution_count": null,
   "metadata": {},
   "outputs": [],
   "source": []
  }
 ],
 "metadata": {
  "kernelspec": {
   "display_name": "hold_noise",
   "language": "python",
   "name": "hold_noise"
  },
  "language_info": {
   "codemirror_mode": {
    "name": "ipython",
    "version": 3
   },
   "file_extension": ".py",
   "mimetype": "text/x-python",
   "name": "python",
   "nbconvert_exporter": "python",
   "pygments_lexer": "ipython3",
   "version": "3.7.3"
  }
 },
 "nbformat": 4,
 "nbformat_minor": 2
}
