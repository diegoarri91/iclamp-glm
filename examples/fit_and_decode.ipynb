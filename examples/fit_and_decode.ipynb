{
 "cells": [
  {
   "cell_type": "code",
   "execution_count": null,
   "metadata": {},
   "outputs": [],
   "source": [
    "import numpy as np\n",
    "from icglm.iclamp import IClamp\n",
    "ic = IClamp.load_from_abf(path='./18o03049.abf')\n",
    "ic = ic.subtract_Ih(th=1000.1).restrict(t0=1000.1, tf=11000.1)\n",
    "ic.plot(sweeps=[0])"
   ]
  },
  {
   "cell_type": "code",
   "execution_count": null,
   "metadata": {},
   "outputs": [],
   "source": [
    "from icglm.glm_fitting import GLMFitter\n",
    "glm_fit = GLMFitter(ic).set_mask_spikes(thr=-13).subsample(10)\n",
    "\n",
    "tbins_kappa = np.arange(0., 220, 5)\n",
    "tbins_eta = np.arange(0., 480, 10)\n",
    "\n",
    "glm_fit.fit(tbins_kappa=tbins_kappa, tbins_eta=tbins_eta)\n",
    "glm_fit.plot_filters()"
   ]
  },
  {
   "cell_type": "code",
   "execution_count": null,
   "metadata": {},
   "outputs": [],
   "source": [
    "glm_fit.set_mask_spikes_model(trials=9)\n",
    "glm_fit.psth(psth_kernel=KernelFun.gaussian_delta(delta=40))\n",
    "glm_fit.plot_raster()"
   ]
  },
  {
   "cell_type": "code",
   "execution_count": null,
   "metadata": {},
   "outputs": [],
   "source": [
    "from icglm.glm_decoding import GLMDecoder\n",
    "Imu, Isd = np.mean(glm_fit.ic.stim), np.mean(np.std(glm_fit.ic.stim, 0))\n",
    "\n",
    "I0 = np.zeros(len(glm_fit.ic.t))\n",
    "decoder = GLMDecoder(glms=[glm_fit.glm], t=glm_fit.ic.t, mask_spk=[glm_fit.mask_spikes], \n",
    "                     tau=3, Imu=[Imu], Isd=[Isd], I_true=(glm_fit.ic.stim - Imu) / Isd)\n",
    "\n",
    "decoder.estimate_MAP_I(I0, prior='OU', verbose=True)"
   ]
  }
 ],
 "metadata": {
  "kernelspec": {
   "display_name": "Python 3",
   "language": "python",
   "name": "python3"
  },
  "language_info": {
   "codemirror_mode": {
    "name": "ipython",
    "version": 3
   },
   "file_extension": ".py",
   "mimetype": "text/x-python",
   "name": "python",
   "nbconvert_exporter": "python",
   "pygments_lexer": "ipython3",
   "version": "3.6.7"
  }
 },
 "nbformat": 4,
 "nbformat_minor": 2
}
