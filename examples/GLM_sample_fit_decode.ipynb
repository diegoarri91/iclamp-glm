{
 "cells": [
  {
   "cell_type": "code",
   "execution_count": 1,
   "metadata": {},
   "outputs": [],
   "source": [
    "%matplotlib inline\n",
    "import sys\n",
    "sys.path.append(\"/home/diego/Dropbox/hold_noise/iclamp-glm/\")\n",
    "\n",
    "import matplotlib.pyplot as plt\n",
    "import numpy as np\n",
    "\n",
    "from icglm.models.glm import GLM\n",
    "from icglm.kernels import KernelRect\n",
    "from icglm.processes import OUProcess\n",
    "\n",
    "%load_ext autoreload\n",
    "%autoreload 2"
   ]
  },
  {
   "cell_type": "markdown",
   "metadata": {},
   "source": [
    "### Define stimulus process, GLM and sample a spike train"
   ]
  },
  {
   "cell_type": "code",
   "execution_count": 2,
   "metadata": {},
   "outputs": [],
   "source": [
    "t = np.arange(0, 100000, 1)\n",
    "mu, sd = 25, 25\n",
    "ou = OUProcess(mu=mu, sd=sd, tau=3)\n",
    "stim = ou.sample(t, seed=0)\n",
    "\n",
    "u0 = 16\n",
    "kappa = KernelRect.exponential(tf=240, dt=8, tau=40, A=1e-2)\n",
    "eta = KernelRect.exponential(tf=450, dt=25, tau=75, A=7)\n",
    "glm_true = GLM(u0=u0, kappa=kappa, eta=eta)\n",
    "\n",
    "np.random.seed(0)\n",
    "v, r, mask_spk_true = glm_true.sample(t, stim)"
   ]
  },
  {
   "cell_type": "markdown",
   "metadata": {},
   "source": [
    "### Fit GLM"
   ]
  },
  {
   "cell_type": "code",
   "execution_count": 3,
   "metadata": {},
   "outputs": [
    {
     "name": "stdout",
     "output_type": "stream",
     "text": [
      "Starting gradient ascent... \n",
      "\n",
      " Iteration 8 of 30 | Elapsed time: 1.11 seconds | log_prior=nan | log_posterior=-2132.16\n",
      " \n",
      " Iteration 8 of 30 | Converged | Elapsed time: 0.0186 minutes | Log posterior is monotonic \n",
      "\n"
     ]
    },
    {
     "ename": "TypeError",
     "evalue": "cannot unpack non-iterable NewtonMethod object",
     "output_type": "error",
     "traceback": [
      "\u001b[0;31m----------------------------------------------------\u001b[0m",
      "\u001b[0;31mTypeError\u001b[0m          Traceback (most recent call last)",
      "\u001b[0;32m<ipython-input-3-c912857bd7c0>\u001b[0m in \u001b[0;36m<module>\u001b[0;34m\u001b[0m\n\u001b[1;32m      2\u001b[0m \u001b[0;34m\u001b[0m\u001b[0m\n\u001b[1;32m      3\u001b[0m \u001b[0mglm\u001b[0m \u001b[0;34m=\u001b[0m \u001b[0mglm_true\u001b[0m\u001b[0;34m.\u001b[0m\u001b[0mcopy\u001b[0m\u001b[0;34m(\u001b[0m\u001b[0;34m)\u001b[0m\u001b[0;34m\u001b[0m\u001b[0;34m\u001b[0m\u001b[0m\n\u001b[0;32m----> 4\u001b[0;31m \u001b[0moptimizer\u001b[0m\u001b[0;34m,\u001b[0m \u001b[0mlogl\u001b[0m \u001b[0;34m=\u001b[0m \u001b[0mglm\u001b[0m\u001b[0;34m.\u001b[0m\u001b[0mfit\u001b[0m\u001b[0;34m(\u001b[0m\u001b[0mt\u001b[0m\u001b[0;34m,\u001b[0m \u001b[0mstim\u001b[0m\u001b[0;34m,\u001b[0m \u001b[0mmask_spk_true\u001b[0m\u001b[0;34m,\u001b[0m \u001b[0mnewton_kwargs\u001b[0m\u001b[0;34m=\u001b[0m\u001b[0mnewton_kwargs\u001b[0m\u001b[0;34m,\u001b[0m\u001b[0mverbose\u001b[0m\u001b[0;34m=\u001b[0m\u001b[0;32mTrue\u001b[0m\u001b[0;34m)\u001b[0m\u001b[0;34m\u001b[0m\u001b[0;34m\u001b[0m\u001b[0m\n\u001b[0m\u001b[1;32m      5\u001b[0m \u001b[0;34m\u001b[0m\u001b[0m\n\u001b[1;32m      6\u001b[0m \u001b[0mfig\u001b[0m\u001b[0;34m,\u001b[0m \u001b[0;34m(\u001b[0m\u001b[0max1\u001b[0m\u001b[0;34m,\u001b[0m \u001b[0max2\u001b[0m\u001b[0;34m,\u001b[0m \u001b[0max3\u001b[0m\u001b[0;34m)\u001b[0m \u001b[0;34m=\u001b[0m \u001b[0mplt\u001b[0m\u001b[0;34m.\u001b[0m\u001b[0msubplots\u001b[0m\u001b[0;34m(\u001b[0m\u001b[0mfigsize\u001b[0m\u001b[0;34m=\u001b[0m\u001b[0;34m(\u001b[0m\u001b[0;36m15\u001b[0m\u001b[0;34m,\u001b[0m \u001b[0;36m5\u001b[0m\u001b[0;34m)\u001b[0m\u001b[0;34m,\u001b[0m \u001b[0mncols\u001b[0m\u001b[0;34m=\u001b[0m\u001b[0;36m3\u001b[0m\u001b[0;34m)\u001b[0m\u001b[0;34m\u001b[0m\u001b[0;34m\u001b[0m\u001b[0m\n",
      "\u001b[0;31mTypeError\u001b[0m: cannot unpack non-iterable NewtonMethod object"
     ]
    }
   ],
   "source": [
    "newton_kwargs = dict(max_iterations=30, stop_cond=2e-4, learning_rate=5e-1, initial_learning_rate=5e-4, warm_up_iterations=3)\n",
    "\n",
    "glm = glm_true.copy()\n",
    "optimizer, logl = glm.fit(t, stim, mask_spk_true, newton_kwargs=newton_kwargs,verbose=True)\n",
    "\n",
    "fig, (ax1, ax2, ax3) = plt.subplots(figsize=(15, 5), ncols=3)\n",
    "glm_true.kappa.plot(ax=ax1)\n",
    "glm.kappa.plot(ax=ax1)\n",
    "glm_true.eta.plot(ax=ax2)\n",
    "glm.eta.plot(ax=ax2)\n",
    "ax3.plot(optimizer.log_posterior_iterations, '-o')"
   ]
  },
  {
   "cell_type": "markdown",
   "metadata": {},
   "source": [
    "### Decode stimulus"
   ]
  },
  {
   "cell_type": "code",
   "execution_count": null,
   "metadata": {},
   "outputs": [],
   "source": [
    "newton_kwargs = dict(max_iterations=30, stop_cond=5e-6, learning_rate=5e-1, initial_learning_rate=5e-2, warm_up_iterations=3)\n",
    "\n",
    "# ou.set_dt(1)\n",
    "stim0 = np.zeros(len(t)) + mu\n",
    "stim_dec, optimizer = glm_true.decode(t, mask_spk_true, stim0=stim0, prior=ou, newton_kwargs=newton_kwargs, verbose=True)\n",
    "\n",
    "fig, ax = plt.subplots(figsize=(16, 5))\n",
    "ax.plot(t, stim)\n",
    "ax.plot(t, stim_dec)\n",
    "\n",
    "fig, (ax1, ax2) = plt.subplots(figsize=(10, 5), ncols=2)\n",
    "ax1.plot(optimizer.log_prior_iterations)\n",
    "ax2.plot(optimizer.log_posterior_iterations, '-o')"
   ]
  },
  {
   "cell_type": "code",
   "execution_count": null,
   "metadata": {},
   "outputs": [],
   "source": []
  }
 ],
 "metadata": {
  "kernelspec": {
   "display_name": "hold_noise",
   "language": "python",
   "name": "hold_noise"
  },
  "language_info": {
   "codemirror_mode": {
    "name": "ipython",
    "version": 3
   },
   "file_extension": ".py",
   "mimetype": "text/x-python",
   "name": "python",
   "nbconvert_exporter": "python",
   "pygments_lexer": "ipython3",
   "version": "3.7.3"
  }
 },
 "nbformat": 4,
 "nbformat_minor": 2
}
