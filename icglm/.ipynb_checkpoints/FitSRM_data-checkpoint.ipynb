{
 "cells": [
  {
   "cell_type": "code",
   "execution_count": 1,
   "metadata": {},
   "outputs": [],
   "source": [
    "%matplotlib ipympl\n",
    "import sys\n",
    "sys.path.append(\"/home/diego/Dropbox/Python/imports/\") \n",
    "#sys.path.append(\"/home/diego/Dropbox/Python/classes/kernels\")\n",
    "#sys.path.append(\"/home/diego/Dropbox/Python/classes/data/\")\n",
    "#sys.path.append(\"/home/diego/Dropbox/Python/classes/fitting/\")\n",
    "#sys.path.append(\"/home/diego/Dropbox/Python/classes/models/single_neuron\")\n",
    "#sys.path.append(\"/home/diego/Dropbox/Python/classes/models\")\n",
    "import numpy as np\n",
    "import matplotlib.pyplot as plt\n",
    "\n",
    "from fun_math import stepr\n",
    "from fun_atfs import read_atf\n",
    "\n",
    "from SRM import SRM\n",
    "from FitSRM import FitSRM\n",
    "from KernelFun import KernelFun\n",
    "from KernelRect import KernelRect\n",
    "from HoldNoise import HoldNoise\n",
    "\n",
    "%load_ext autoreload\n",
    "%autoreload 2\n",
    "plt.close('all')"
   ]
  },
  {
   "cell_type": "code",
   "execution_count": 2,
   "metadata": {},
   "outputs": [
    {
     "data": {
      "application/vnd.jupyter.widget-view+json": {
       "model_id": "a56d5ce2a058435080edd4b724ec5728",
       "version_major": 2,
       "version_minor": 0
      },
      "text/plain": [
       "FigureCanvasNbAgg()"
      ]
     },
     "metadata": {},
     "output_type": "display_data"
    }
   ],
   "source": [
    "folder = '/home/diego/Dropbox/data/patch/180926_3'\n",
    "filename = '18926037'\n",
    "\n",
    "hn = HoldNoise.from_file(folder, filename)\n",
    "\n",
    "fitsrm = FitSRM(hn)\n",
    "fitsrm.t0 = 3000.\n",
    "#fitsrm.tf = 30000.\n",
    "fitsrm.set_mask_spikes(dvdt_thr = 4., tl = 7., tref = 10., thr = -10., Dt = 3.)\n",
    "fitsrm.srm.tref = 8.\n",
    "\n",
    "fig, (axv, axstim) = plt.subplots(figsize=(10,5), nrows = 2, sharex = 'col')\n",
    "axv.plot(hn.t, hn.v)\n",
    "axv.plot(hn.t[fitsrm.mask_spikes[:,0]], hn.v[fitsrm.mask_spikes], 'o')\n",
    "axstim.plot(hn.t, hn.stim)\n",
    "fig.tight_layout()"
   ]
  },
  {
   "cell_type": "markdown",
   "metadata": {},
   "source": [
    "# fit_subth"
   ]
  },
  {
   "cell_type": "code",
   "execution_count": 3,
   "metadata": {},
   "outputs": [
    {
     "name": "stderr",
     "output_type": "stream",
     "text": [
      "/usr/local/lib/python3.7/site-packages/numpy/linalg/linalg.py:2022: RuntimeWarning: overflow encountered in det\n",
      "  r = _umath_linalg.det(a, signature=signature)\n",
      "/usr/local/lib/python3.7/site-packages/numpy/core/fromnumeric.py:2920: RuntimeWarning: Mean of empty slice.\n",
      "  out=out, **kwargs)\n",
      "/usr/local/lib/python3.7/site-packages/numpy/core/_methods.py:85: RuntimeWarning: invalid value encountered in double_scalars\n",
      "  ret = ret.dtype.type(ret / rcount)\n"
     ]
    },
    {
     "data": {
      "application/vnd.jupyter.widget-view+json": {
       "model_id": "b195362b0a3840578f4be6797abfc536",
       "version_major": 2,
       "version_minor": 0
      },
      "text/plain": [
       "FigureCanvasNbAgg()"
      ]
     },
     "metadata": {},
     "output_type": "display_data"
    },
    {
     "data": {
      "text/plain": [
       "(<matplotlib.axes._subplots.AxesSubplot at 0x7ff89de9a940>,\n",
       " [<matplotlib.axes._subplots.AxesSubplot at 0x7ff89ddf7208>,\n",
       "  <matplotlib.axes._subplots.AxesSubplot at 0x7ff89de20898>,\n",
       "  <matplotlib.axes._subplots.AxesSubplot at 0x7ff89ddc7f98>],\n",
       " [<matplotlib.axes._subplots.AxesSubplot at 0x7ff89dd77668>,\n",
       "  <matplotlib.axes._subplots.AxesSubplot at 0x7ff89dda1d30>,\n",
       "  <matplotlib.axes._subplots.AxesSubplot at 0x7ff89dd50438>])"
      ]
     },
     "execution_count": 3,
     "metadata": {},
     "output_type": "execute_result"
    }
   ],
   "source": [
    "tbins_kappa = np.concatenate((np.arange(0, 10, 1.), np.arange(10., 50, 5.), np.arange(50, 150., 10.)))\n",
    "tbins_eta = np.concatenate((np.arange(0, 10, 2.), np.arange(10., 50, 5.), np.arange(50., 200., 10.), \\\n",
    "                            np.arange(200., 400., 20.)) )\n",
    "\n",
    "fitsrm.fit_v_subthr(tl=20., fit_kwargs={'th':1800., 'tbins_kappa':tbins_kappa, 'tbins_eta':tbins_eta}, rmser=True, plot=True)"
   ]
  },
  {
   "cell_type": "code",
   "execution_count": 19,
   "metadata": {},
   "outputs": [
    {
     "name": "stdout",
     "output_type": "stream",
     "text": [
      "\n",
      "Converged after 25 iterations!\n",
      "\n"
     ]
    }
   ],
   "source": [
    "tbins_gamma = np.concatenate((np.arange(0, 10, 2.), np.arange(10., 50, 10.), np.arange(50., 200., 10.), \\\n",
    "                            np.arange(200., 400., 20.), np.arange(400., 800., 40.), np.arange(800., 1600., 80.)) )\n",
    "\n",
    "#tbins_gamma = np.concatenate((np.arange(10., 50, 5.), np.arange(50., 200., 10.), \\\n",
    "#                            np.arange(200., 400., 20.), np.arange(400., 800., 40.), np.arange(800., 1600., 80.)) )\n",
    "\n",
    "vt0, dV = -40., 1.\n",
    "A_gamma, tau_gamma = .01, 500.\n",
    "theta0_gamma = A_gamma * np.exp(-tbins_gamma[:-1]/tau_gamma)\n",
    "#theta0 = np.append( np.array([.95, vt0*1.05]), theta0_gamma)/dV\n",
    "theta0 = np.append( np.array([1., vt0]), theta0_gamma)/dV\n",
    "\n",
    "fitsrm.fit_supth(theta0 = theta0, tbins = tbins_gamma, maxii = 1000)\n",
    "fitsrm.srm.vpeak = 30.\n",
    "#print(fitsrm.srm.vt0, fitsrm.srm.dV )\n",
    "#print(theta0_gamma[0], fitsrm.srm.gamma.coefs[0] )"
   ]
  },
  {
   "cell_type": "code",
   "execution_count": 20,
   "metadata": {},
   "outputs": [],
   "source": [
    "v, _, _, _, _ = fitsrm.srm.simulate(hn.t, hn.stim, Ih = 0. )"
   ]
  },
  {
   "cell_type": "code",
   "execution_count": 21,
   "metadata": {},
   "outputs": [
    {
     "data": {
      "application/vnd.jupyter.widget-view+json": {
       "model_id": "0cd750f1cbed4e84956bc88b2e8d3346",
       "version_major": 2,
       "version_minor": 0
      },
      "text/plain": [
       "FigureCanvasNbAgg()"
      ]
     },
     "metadata": {},
     "output_type": "display_data"
    },
    {
     "data": {
      "text/plain": [
       "<matplotlib.axes._subplots.AxesSubplot at 0x7fbfeaff2940>"
      ]
     },
     "execution_count": 21,
     "metadata": {},
     "output_type": "execute_result"
    }
   ],
   "source": [
    "fig, (axv, axgamma) = plt.subplots(figsize=(8, 5), ncols = 2)\n",
    "\n",
    "axv.plot(hn.t, hn.v)\n",
    "axv.plot(hn.t, v)\n",
    "t_gamma = np.arange(0, 600., .1)\n",
    "fitsrm.srm.gamma.plot(t_gamma, ax = axgamma)"
   ]
  },
  {
   "cell_type": "code",
   "execution_count": 15,
   "metadata": {},
   "outputs": [
    {
     "data": {
      "text/plain": [
       "-40.448072773486615"
      ]
     },
     "execution_count": 15,
     "metadata": {},
     "output_type": "execute_result"
    }
   ],
   "source": [
    "fitsrm.srm.vt0"
   ]
  },
  {
   "cell_type": "code",
   "execution_count": null,
   "metadata": {},
   "outputs": [],
   "source": []
  }
 ],
 "metadata": {
  "kernelspec": {
   "display_name": "Python 2",
   "language": "python",
   "name": "python2"
  },
  "language_info": {
   "codemirror_mode": {
    "name": "ipython",
    "version": 3
   },
   "file_extension": ".py",
   "mimetype": "text/x-python",
   "name": "python",
   "nbconvert_exporter": "python",
   "pygments_lexer": "ipython3",
   "version": "3.7.0"
  }
 },
 "nbformat": 4,
 "nbformat_minor": 2
}
